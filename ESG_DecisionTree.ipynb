{
  "nbformat": 4,
  "nbformat_minor": 0,
  "metadata": {
    "colab": {
      "name": "ESG_DecisionTree.ipynb",
      "private_outputs": true,
      "provenance": [],
      "toc_visible": true,
      "include_colab_link": true
    },
    "kernelspec": {
      "name": "python3",
      "display_name": "Python 3"
    }
  },
  "cells": [
    {
      "cell_type": "markdown",
      "metadata": {
        "id": "view-in-github",
        "colab_type": "text"
      },
      "source": [
        "<a href=\"https://colab.research.google.com/github/HuangruiChu/ECON211/blob/main/ESG_DecisionTree.ipynb\" target=\"_parent\"><img src=\"https://colab.research.google.com/assets/colab-badge.svg\" alt=\"Open In Colab\"/></a>"
      ]
    },
    {
      "cell_type": "markdown",
      "metadata": {
        "id": "TB0sNYDCJ0M0"
      },
      "source": [
        "# Step 1: Data Wrangling"
      ]
    },
    {
      "cell_type": "code",
      "metadata": {
        "id": "fIsslb8YINKh"
      },
      "source": [
        "import pandas as pd \r\n",
        "import numpy as np\r\n",
        "from sklearn.tree import DecisionTreeClassifier # Import Decision Tree Classifier\r\n",
        "from sklearn import metrics \r\n",
        "clf = DecisionTreeClassifier()"
      ],
      "execution_count": null,
      "outputs": []
    },
    {
      "cell_type": "code",
      "metadata": {
        "id": "qTM-a9GZIWRL"
      },
      "source": [
        "###show all columns\r\n",
        "pd.set_option('display.max_columns', None)\r\n",
        "pd.set_option('display.max_rows', None)"
      ],
      "execution_count": null,
      "outputs": []
    },
    {
      "cell_type": "code",
      "metadata": {
        "id": "ZH8NDdVFImVZ"
      },
      "source": [
        "df=pd.read_csv('chrxy.csv')\r\n",
        "\r\n",
        "df.head()"
      ],
      "execution_count": null,
      "outputs": []
    },
    {
      "cell_type": "code",
      "metadata": {
        "id": "CiVLh69sftbv"
      },
      "source": [
        "df[\"percent\"]=df['Total Food Expenditure']/df['Total Household Income']"
      ],
      "execution_count": null,
      "outputs": []
    },
    {
      "cell_type": "code",
      "metadata": {
        "id": "dmJlR9d_hB8_"
      },
      "source": [
        "df[\"Return\"]=pd.qcut(df[\"percent\"],3,labels=np.arange(1,4,1) )"
      ],
      "execution_count": null,
      "outputs": []
    },
    {
      "cell_type": "code",
      "metadata": {
        "id": "xhJ04b5Sh6La"
      },
      "source": [
        "df['Rank']=df['Return'].apply(lambda x: 'High' if x==3 else 'Average' if x==2 else 'Low')"
      ],
      "execution_count": null,
      "outputs": []
    },
    {
      "cell_type": "code",
      "metadata": {
        "id": "RpOVd8Jeg6_Q"
      },
      "source": [
        "df.head()\r\n"
      ],
      "execution_count": null,
      "outputs": []
    },
    {
      "cell_type": "code",
      "metadata": {
        "id": "P6QGos6lic4V"
      },
      "source": [
        "\r\n",
        "df = df_ESG.merge(df_YearlyReturn, left_on='Ticker',right_on='Symbol')\r\n"
      ],
      "execution_count": null,
      "outputs": []
    },
    {
      "cell_type": "markdown",
      "metadata": {
        "id": "WXfdY-ZcJ3pu"
      },
      "source": [
        "# Build Decision Tree"
      ]
    },
    {
      "cell_type": "code",
      "metadata": {
        "id": "Ch9KDctHJwMk"
      },
      "source": [
        "feature_names='Total Household Income'\r\n",
        "features=df[feature_names]\r\n",
        "targets=df['Rank']\r\n",
        "targets_names = targets.unique()"
      ],
      "execution_count": null,
      "outputs": []
    },
    {
      "cell_type": "code",
      "metadata": {
        "id": "4M83RDrL0_3a"
      },
      "source": [
        "from sklearn.model_selection import train_test_split\r\n",
        "train_features, test_features, train_targets, test_targets = train_test_split(features, targets, test_size=0.2, random_state=42)"
      ],
      "execution_count": null,
      "outputs": []
    },
    {
      "cell_type": "code",
      "metadata": {
        "id": "EcMhGaehLC_y"
      },
      "source": [
        "from sklearn import metrics\r\n",
        "from sklearn.metrics import accuracy_score"
      ],
      "execution_count": null,
      "outputs": []
    },
    {
      "cell_type": "code",
      "metadata": {
        "id": "vKdRehWkibem"
      },
      "source": [
        ""
      ],
      "execution_count": null,
      "outputs": []
    },
    {
      "cell_type": "code",
      "metadata": {
        "id": "AhVIHZN6LEuj"
      },
      "source": [
        "#####Optimizing Decision Tree Performance\r\n",
        "# Create Decision Tree classifer object\r\n",
        "clf = DecisionTreeClassifier(criterion='entropy', max_depth=2,random_state=0)\r\n",
        "\r\n",
        "# Train Decision Tree Classifer\r\n",
        "clf = clf.fit(train_features,train_targets)\r\n",
        "\r\n",
        "#Predict the response for test dataset\r\n",
        "y_pred = clf.predict(test_features)\r\n",
        "\r\n",
        "# Compute test set accuracy  \r\n",
        "acc = accuracy_score(y_pred, test_targets)\r\n",
        "print(\"Test set accuracy: {:.2f}\".format(acc))"
      ],
      "execution_count": null,
      "outputs": []
    },
    {
      "cell_type": "code",
      "metadata": {
        "id": "8n4BxXMALGm5"
      },
      "source": [
        "from sklearn.tree import export_graphviz\r\n",
        "from sklearn.externals.six import StringIO  \r\n",
        "from IPython.display import Image  \r\n",
        "import pydotplus"
      ],
      "execution_count": null,
      "outputs": []
    },
    {
      "cell_type": "code",
      "metadata": {
        "id": "IWcrutlxLI4-"
      },
      "source": [
        "dot_data = StringIO()\r\n",
        "export_graphviz(clf, out_file=dot_data,  \r\n",
        "                filled=True, rounded=True,\r\n",
        "                special_characters=True,feature_names = feature_names,class_names=targets_names)\r\n",
        "graph = pydotplus.graph_from_dot_data(dot_data.getvalue())  \r\n",
        "graph.write_png('ESG.png')\r\n",
        "Image(graph.create_png())"
      ],
      "execution_count": null,
      "outputs": []
    },
    {
      "cell_type": "code",
      "metadata": {
        "id": "cliGo7ZKLKr5"
      },
      "source": [
        ""
      ],
      "execution_count": null,
      "outputs": []
    }
  ]
}