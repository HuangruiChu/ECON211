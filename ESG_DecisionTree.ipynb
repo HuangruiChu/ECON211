{
  "nbformat": 4,
  "nbformat_minor": 0,
  "metadata": {
    "colab": {
      "name": "ESG_DecisionTree.ipynb",
      "private_outputs": true,
      "provenance": [],
      "toc_visible": true,
      "include_colab_link": true
    },
    "kernelspec": {
      "name": "python3",
      "display_name": "Python 3"
    }
  },
  "cells": [
    {
      "cell_type": "markdown",
      "metadata": {
        "id": "view-in-github",
        "colab_type": "text"
      },
      "source": [
        "<a href=\"https://colab.research.google.com/github/HuangruiChu/ECON211/blob/main/ESG_DecisionTree.ipynb\" target=\"_parent\"><img src=\"https://colab.research.google.com/assets/colab-badge.svg\" alt=\"Open In Colab\"/></a>"
      ]
    },
    {
      "cell_type": "markdown",
      "metadata": {
        "id": "TB0sNYDCJ0M0"
      },
      "source": [
        "# Step 1: Data Wrangling"
      ]
    },
    {
      "cell_type": "code",
      "metadata": {
        "id": "fIsslb8YINKh"
      },
      "source": [
        "import pandas as pd \r\n",
        "import numpy as np\r\n",
        "from sklearn.tree import DecisionTreeClassifier # Import Decision Tree Classifier\r\n",
        "from sklearn import metrics \r\n",
        "clf = DecisionTreeClassifier()"
      ],
      "execution_count": null,
      "outputs": []
    },
    {
      "cell_type": "code",
      "metadata": {
        "id": "qTM-a9GZIWRL"
      },
      "source": [
        "###show all columns\r\n",
        "pd.set_option('display.max_columns', None)\r\n",
        "pd.set_option('display.max_rows', None)"
      ],
      "execution_count": null,
      "outputs": []
    },
    {
      "cell_type": "code",
      "metadata": {
        "id": "ZH8NDdVFImVZ"
      },
      "source": [
        "df=pd.read_csv('Family Income and Expenditure.csv')\r\n",
        "\r\n",
        "df.head()"
      ],
      "execution_count": null,
      "outputs": []
    },
    {
      "cell_type": "code",
      "metadata": {
        "id": "CiVLh69sftbv"
      },
      "source": [
        "df[\"percent\"]=df['Total Food Expenditure']/df['Total Household Income']"
      ],
      "execution_count": null,
      "outputs": []
    },
    {
      "cell_type": "code",
      "metadata": {
        "id": "dmJlR9d_hB8_"
      },
      "source": [
        "df[\"Return\"]=pd.qcut(df[\"percent\"],3,labels=np.arange(1,4,1) )"
      ],
      "execution_count": null,
      "outputs": []
    },
    {
      "cell_type": "code",
      "metadata": {
        "id": "ksAyJ1Gy87XR"
      },
      "source": [
        "df.head()"
      ],
      "execution_count": null,
      "outputs": []
    },
    {
      "cell_type": "code",
      "metadata": {
        "id": "xhJ04b5Sh6La"
      },
      "source": [
        "df['Rank']=df['Return'].apply(lambda x: 'High' if x==3 else 'Average' if x==2 else 'Low')"
      ],
      "execution_count": null,
      "outputs": []
    },
    {
      "cell_type": "code",
      "metadata": {
        "id": "RpOVd8Jeg6_Q"
      },
      "source": [
        "df.head()\r\n"
      ],
      "execution_count": null,
      "outputs": []
    },
    {
      "cell_type": "markdown",
      "metadata": {
        "id": "WXfdY-ZcJ3pu"
      },
      "source": [
        "# Build Decision Tree"
      ]
    },
    {
      "cell_type": "code",
      "metadata": {
        "id": "Ch9KDctHJwMk"
      },
      "source": [
        "feature_names=['Total Household Income']\r\n",
        "features=df[feature_names]\r\n",
        "targets=df['Rank']\r\n",
        "targets_names = targets.unique()"
      ],
      "execution_count": null,
      "outputs": []
    },
    {
      "cell_type": "code",
      "metadata": {
        "id": "4M83RDrL0_3a"
      },
      "source": [
        "from sklearn.model_selection import train_test_split\r\n",
        "train_features, test_features, train_targets, test_targets = train_test_split(features, targets, test_size=0.2, random_state=42)"
      ],
      "execution_count": null,
      "outputs": []
    },
    {
      "cell_type": "markdown",
      "metadata": {
        "id": "I3Webwd3HGkj"
      },
      "source": [
        ""
      ]
    },
    {
      "cell_type": "code",
      "metadata": {
        "id": "EcMhGaehLC_y"
      },
      "source": [
        "from sklearn import metrics\r\n",
        "from sklearn.metrics import accuracy_score"
      ],
      "execution_count": null,
      "outputs": []
    },
    {
      "cell_type": "code",
      "metadata": {
        "id": "AhVIHZN6LEuj"
      },
      "source": [
        "#####Optimizing Decision Tree Performance\r\n",
        "# Create Decision Tree classifer object\r\n",
        "clf = DecisionTreeClassifier(criterion='entropy', max_depth=2,random_state=0)\r\n",
        "\r\n",
        "# Train Decision Tree Classifer\r\n",
        "clf = clf.fit(train_features,train_targets)\r\n",
        "\r\n",
        "#Predict the response for test dataset\r\n",
        "y_pred = clf.predict(test_features)\r\n",
        "\r\n",
        "# Compute test set accuracy  \r\n",
        "acc = accuracy_score(y_pred, test_targets)\r\n",
        "print(\"Test set accuracy: {:.2f}\".format(acc))"
      ],
      "execution_count": null,
      "outputs": []
    },
    {
      "cell_type": "code",
      "metadata": {
        "id": "8n4BxXMALGm5"
      },
      "source": [
        "from sklearn.tree import export_graphviz\r\n",
        "from sklearn.externals.six import StringIO  \r\n",
        "from IPython.display import Image  \r\n",
        "import pydotplus"
      ],
      "execution_count": null,
      "outputs": []
    },
    {
      "cell_type": "code",
      "metadata": {
        "id": "IWcrutlxLI4-"
      },
      "source": [
        "#dot_data = StringIO()\r\n",
        "dot_data=export_graphviz(clf, out_file=None,  \r\n",
        "                filled=True, rounded=True,\r\n",
        "                special_characters=True,feature_names = feature_names,class_names=targets_names)\r\n",
        "graph = pydotplus.graph_from_dot_data(dot_data)  \r\n",
        "graph.write_png('ESG.png')\r\n",
        "Image(graph.create_png())"
      ],
      "execution_count": null,
      "outputs": []
    },
    {
      "cell_type": "markdown",
      "metadata": {
        "id": "uSqfTcmkEtfn"
      },
      "source": [
        "K-FOLD版本"
      ]
    },
    {
      "cell_type": "code",
      "metadata": {
        "id": "ikY9FYOeEshh"
      },
      "source": [
        "clf.predict([[1777900]])"
      ],
      "execution_count": null,
      "outputs": []
    },
    {
      "cell_type": "code",
      "metadata": {
        "id": "cliGo7ZKLKr5"
      },
      "source": [
        "from sklearn.model_selection import KFold\r\n",
        "cv = KFold(n_splits=10)            # Desired number of Cross Validation folds\r\n",
        "accuracies = list()\r\n",
        "depth_range = range(1, 4)\r\n",
        "\r\n",
        "# Testing max_depths from 1 to max attributes\r\n",
        "# Uncomment prints for details about each Cross Validation pass\r\n",
        "for depth in depth_range:\r\n",
        "    fold_accuracy = []\r\n",
        "    tree_model =DecisionTreeClassifier(criterion='entropy', max_depth=depth,random_state=0) \r\n",
        "    # print(\"Current max depth: \", depth, \"\\n\")\r\n",
        "    for train_index, test_index in cv.split(train_features):\r\n",
        "        print('train_index', train_index, 'test_index', test_index)\r\n",
        "        print(len(train_index))\r\n",
        "        f_train_X = train_features.loc[train_index] # Extract train data with cv indices\r\n",
        "        f_train_y = train_targets.loc[train_index]\r\n",
        "        f_valid_X = test_features.loc[test_index] # Extract valid data with cv indices\r\n",
        "        f_valid_y = test_targets.loc[test_index]\r\n",
        "\r\n",
        "\r\n",
        "        model = tree_model.fit(X = f_train_X, \r\n",
        "                               y = f_train_y) # We fit the model with the fold train data\r\n",
        "        valid_acc = model.score(X = f_valid_X , \r\n",
        "                                y = f_valid_y)# We calculate accuracy with the fold validation data\r\n",
        "        fold_accuracy.append(valid_acc)\r\n",
        "\r\n",
        "    avg = sum(fold_accuracy)/len(fold_accuracy)\r\n",
        "    accuracies.append(avg)\r\n",
        "    \r\n",
        "# Just to show results conveniently\r\n",
        "df = pd.DataFrame({\"Max Depth\": depth_range, \"Average Accuracy\": accuracies})\r\n",
        "df = df[[\"Max Depth\", \"Average Accuracy\"]]\r\n",
        "print(df.to_string(index=False))"
      ],
      "execution_count": null,
      "outputs": []
    },
    {
      "cell_type": "code",
      "metadata": {
        "id": "rpDoOG8_FJS7"
      },
      "source": [
        ""
      ],
      "execution_count": null,
      "outputs": []
    }
  ]
}